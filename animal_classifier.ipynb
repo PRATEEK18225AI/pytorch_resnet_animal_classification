{
 "cells": [
  {
   "cell_type": "markdown",
   "metadata": {
    "id": "ncdPellc9CT7"
   },
   "source": [
    "### Importing Packages"
   ]
  },
  {
   "cell_type": "code",
   "execution_count": 4,
   "metadata": {
    "executionInfo": {
     "elapsed": 4769,
     "status": "ok",
     "timestamp": 1619650871916,
     "user": {
      "displayName": "2K18/CO/255 PRATEEK KUMAR",
      "photoUrl": "https://lh3.googleusercontent.com/a-/AOh14GiC24td7L6_hx_cF1QaHONUb-eXjy0d5Kfv-Cua=s64",
      "userId": "14371223947882262598"
     },
     "user_tz": -330
    },
    "id": "3hWi75EU5KWS"
   },
   "outputs": [],
   "source": [
    "import torch\n",
    "from torch import nn,tensor\n",
    "from torchvision.datasets import ImageFolder\n",
    "from torch.utils.data import Dataset,DataLoader\n",
    "from torchsummary import summary\n",
    "from torch.nn import functional as F\n",
    "from torch.optim import Adam\n",
    "from torchvision import transforms\n",
    "from torchvision.models import resnet50"
   ]
  },
  {
   "cell_type": "code",
   "execution_count": 5,
   "metadata": {
    "executionInfo": {
     "elapsed": 5158,
     "status": "ok",
     "timestamp": 1619650872541,
     "user": {
      "displayName": "2K18/CO/255 PRATEEK KUMAR",
      "photoUrl": "https://lh3.googleusercontent.com/a-/AOh14GiC24td7L6_hx_cF1QaHONUb-eXjy0d5Kfv-Cua=s64",
      "userId": "14371223947882262598"
     },
     "user_tz": -330
    },
    "id": "n3okIEOjTBHi"
   },
   "outputs": [],
   "source": [
    "import numpy as np\n",
    "import pandas as pd\n",
    "import matplotlib.pyplot as plt\n",
    "import os\n",
    "import shutil\n",
    "import json\n",
    "from PIL import Image\n",
    "from sklearn.model_selection import train_test_split\n",
    "from sklearn import metrics"
   ]
  },
  {
   "cell_type": "markdown",
   "metadata": {
    "id": "vZRY1pwl_cz2"
   },
   "source": [
    "## Downloading Dataset from animal-10 dataset from Kaggle\n",
    "[Animal-10 Dataset](https://www.kaggle.com/alessiocorrado99/animals10)"
   ]
  },
  {
   "cell_type": "code",
   "execution_count": 3,
   "metadata": {
    "executionInfo": {
     "elapsed": 5449,
     "status": "ok",
     "timestamp": 1619645557245,
     "user": {
      "displayName": "2K18/CO/255 PRATEEK KUMAR",
      "photoUrl": "https://lh3.googleusercontent.com/a-/AOh14GiC24td7L6_hx_cF1QaHONUb-eXjy0d5Kfv-Cua=s64",
      "userId": "14371223947882262598"
     },
     "user_tz": -330
    },
    "id": "kaaLuDdI8VKK"
   },
   "outputs": [],
   "source": [
    "os.mkdir('/root/.kaggle')"
   ]
  },
  {
   "cell_type": "code",
   "execution_count": 5,
   "metadata": {
    "colab": {
     "base_uri": "https://localhost:8080/",
     "height": 36
    },
    "executionInfo": {
     "elapsed": 1077,
     "status": "ok",
     "timestamp": 1619645580749,
     "user": {
      "displayName": "2K18/CO/255 PRATEEK KUMAR",
      "photoUrl": "https://lh3.googleusercontent.com/a-/AOh14GiC24td7L6_hx_cF1QaHONUb-eXjy0d5Kfv-Cua=s64",
      "userId": "14371223947882262598"
     },
     "user_tz": -330
    },
    "id": "gaj0qrnW8gIr",
    "outputId": "7dc489a9-e398-454c-9df0-544b7ab96b84"
   },
   "outputs": [
    {
     "data": {
      "application/vnd.google.colaboratory.intrinsic+json": {
       "type": "string"
      },
      "text/plain": [
       "'/root/.kaggle/kaggle.json'"
      ]
     },
     "execution_count": 5,
     "metadata": {
      "tags": []
     },
     "output_type": "execute_result"
    }
   ],
   "source": [
    "shutil.copy('kaggle.json','/root/.kaggle/kaggle.json')"
   ]
  },
  {
   "cell_type": "code",
   "execution_count": 6,
   "metadata": {
    "executionInfo": {
     "elapsed": 1188,
     "status": "ok",
     "timestamp": 1619645581495,
     "user": {
      "displayName": "2K18/CO/255 PRATEEK KUMAR",
      "photoUrl": "https://lh3.googleusercontent.com/a-/AOh14GiC24td7L6_hx_cF1QaHONUb-eXjy0d5Kfv-Cua=s64",
      "userId": "14371223947882262598"
     },
     "user_tz": -330
    },
    "id": "s4-XDc1j8kbV"
   },
   "outputs": [],
   "source": [
    "! chmod 600 ~/.kaggle/kaggle.json"
   ]
  },
  {
   "cell_type": "code",
   "execution_count": 7,
   "metadata": {
    "colab": {
     "base_uri": "https://localhost:8080/"
    },
    "executionInfo": {
     "elapsed": 9309,
     "status": "ok",
     "timestamp": 1619645590360,
     "user": {
      "displayName": "2K18/CO/255 PRATEEK KUMAR",
      "photoUrl": "https://lh3.googleusercontent.com/a-/AOh14GiC24td7L6_hx_cF1QaHONUb-eXjy0d5Kfv-Cua=s64",
      "userId": "14371223947882262598"
     },
     "user_tz": -330
    },
    "id": "d6BGz4FY8Hpx",
    "outputId": "2c6ce334-8efb-4bf9-df7e-fb44fcb0240e"
   },
   "outputs": [
    {
     "name": "stdout",
     "output_type": "stream",
     "text": [
      "Downloading animals10.zip to /content\n",
      "100% 586M/586M [00:07<00:00, 67.4MB/s]\n",
      "\n"
     ]
    }
   ],
   "source": [
    "! kaggle datasets download -d alessiocorrado99/animals10"
   ]
  },
  {
   "cell_type": "code",
   "execution_count": 8,
   "metadata": {
    "executionInfo": {
     "elapsed": 15201,
     "status": "ok",
     "timestamp": 1619645597606,
     "user": {
      "displayName": "2K18/CO/255 PRATEEK KUMAR",
      "photoUrl": "https://lh3.googleusercontent.com/a-/AOh14GiC24td7L6_hx_cF1QaHONUb-eXjy0d5Kfv-Cua=s64",
      "userId": "14371223947882262598"
     },
     "user_tz": -330
    },
    "id": "3zGAGOfuA95G"
   },
   "outputs": [],
   "source": [
    "! unzip -q animals10.zip"
   ]
  },
  {
   "cell_type": "code",
   "execution_count": 6,
   "metadata": {
    "executionInfo": {
     "elapsed": 891,
     "status": "ok",
     "timestamp": 1619650891605,
     "user": {
      "displayName": "2K18/CO/255 PRATEEK KUMAR",
      "photoUrl": "https://lh3.googleusercontent.com/a-/AOh14GiC24td7L6_hx_cF1QaHONUb-eXjy0d5Kfv-Cua=s64",
      "userId": "14371223947882262598"
     },
     "user_tz": -330
    },
    "id": "vYVjX63__b9I"
   },
   "outputs": [],
   "source": [
    "imgdir='./raw-img'"
   ]
  },
  {
   "cell_type": "markdown",
   "metadata": {
    "id": "p8jE-NxyPPQt"
   },
   "source": [
    "### Checking GPU "
   ]
  },
  {
   "cell_type": "code",
   "execution_count": 7,
   "metadata": {
    "colab": {
     "base_uri": "https://localhost:8080/"
    },
    "executionInfo": {
     "elapsed": 1329,
     "status": "ok",
     "timestamp": 1619650894685,
     "user": {
      "displayName": "2K18/CO/255 PRATEEK KUMAR",
      "photoUrl": "https://lh3.googleusercontent.com/a-/AOh14GiC24td7L6_hx_cF1QaHONUb-eXjy0d5Kfv-Cua=s64",
      "userId": "14371223947882262598"
     },
     "user_tz": -330
    },
    "id": "Mm_qjaC7VAJ1",
    "outputId": "96678c43-4ed4-43d5-e5cf-26f6e56d2369"
   },
   "outputs": [
    {
     "data": {
      "text/plain": [
       "device(type='cuda')"
      ]
     },
     "execution_count": 7,
     "metadata": {
      "tags": []
     },
     "output_type": "execute_result"
    }
   ],
   "source": [
    "device=torch.device('cuda' if torch.cuda.is_available() else 'cpu')\n",
    "device"
   ]
  },
  {
   "cell_type": "code",
   "execution_count": 8,
   "metadata": {
    "executionInfo": {
     "elapsed": 1318,
     "status": "ok",
     "timestamp": 1619650894691,
     "user": {
      "displayName": "2K18/CO/255 PRATEEK KUMAR",
      "photoUrl": "https://lh3.googleusercontent.com/a-/AOh14GiC24td7L6_hx_cF1QaHONUb-eXjy0d5Kfv-Cua=s64",
      "userId": "14371223947882262598"
     },
     "user_tz": -330
    },
    "id": "ZrDGsaSkPT_y"
   },
   "outputs": [],
   "source": [
    "def moveToDevice(x,y):\n",
    "    return x.to(device),y.to(device)"
   ]
  },
  {
   "cell_type": "markdown",
   "metadata": {
    "id": "vuwvSU93DCmY"
   },
   "source": [
    "### creating pytorch dataset"
   ]
  },
  {
   "cell_type": "code",
   "execution_count": 9,
   "metadata": {
    "executionInfo": {
     "elapsed": 1359,
     "status": "ok",
     "timestamp": 1619650897614,
     "user": {
      "displayName": "2K18/CO/255 PRATEEK KUMAR",
      "photoUrl": "https://lh3.googleusercontent.com/a-/AOh14GiC24td7L6_hx_cF1QaHONUb-eXjy0d5Kfv-Cua=s64",
      "userId": "14371223947882262598"
     },
     "user_tz": -330
    },
    "id": "4izgnAXbEy3X"
   },
   "outputs": [],
   "source": [
    "lng_to_eng = {\"cane\": \"dog\", \"cavallo\": \"horse\", \"elefante\": \"elephant\", \"farfalla\": \"butterfly\", \"gallina\": \"chicken\", \"gatto\": \"cat\", \"mucca\": \"cow\", \"pecora\": \"sheep\", \"ragno\": \"spider\" , \"scoiattolo\": \"squirrel\"}\n",
    "eng_to_lng = {\"dog\": \"cane\", \"horse\": \"cavallo\", \"elephant\" : \"elefante\", \"butterfly\": \"farfalla\", \"chicken\": \"gallina\", \"cat\": \"gatto\", \"cow\": \"mucca\",\"sheep\":\"pecora\", \"spider\": \"ragno\", \"squirrel\": \"scoiattolo\"}"
   ]
  },
  {
   "cell_type": "code",
   "execution_count": 10,
   "metadata": {
    "executionInfo": {
     "elapsed": 1105,
     "status": "ok",
     "timestamp": 1619650897631,
     "user": {
      "displayName": "2K18/CO/255 PRATEEK KUMAR",
      "photoUrl": "https://lh3.googleusercontent.com/a-/AOh14GiC24td7L6_hx_cF1QaHONUb-eXjy0d5Kfv-Cua=s64",
      "userId": "14371223947882262598"
     },
     "user_tz": -330
    },
    "id": "OkFIQIWRG6FL"
   },
   "outputs": [],
   "source": [
    "label_to_idx={i:n for n,i in enumerate(eng_to_lng)}\n",
    "idx_to_label={v:k for k,v in label_to_idx.items()}"
   ]
  },
  {
   "cell_type": "code",
   "execution_count": 11,
   "metadata": {
    "executionInfo": {
     "elapsed": 1513,
     "status": "ok",
     "timestamp": 1619650900079,
     "user": {
      "displayName": "2K18/CO/255 PRATEEK KUMAR",
      "photoUrl": "https://lh3.googleusercontent.com/a-/AOh14GiC24td7L6_hx_cF1QaHONUb-eXjy0d5Kfv-Cua=s64",
      "userId": "14371223947882262598"
     },
     "user_tz": -330
    },
    "id": "lceEWPdNEytV"
   },
   "outputs": [],
   "source": [
    "data={\n",
    "    'label':[],\n",
    "    'idx': [],\n",
    "    'path': [],\n",
    "    }\n",
    "for c in os.listdir(imgdir):\n",
    "    animal_dir=f'{imgdir}/{c}'\n",
    "    for img in os.listdir(animal_dir):\n",
    "        eng=lng_to_eng[c]\n",
    "        if img.split('.')[-1] in ['jpg','jpeg','png']:\n",
    "            data['label'].append(eng)\n",
    "            data['idx'].append(label_to_idx[eng])\n",
    "            data['path'].append(f'{animal_dir}/{img}')"
   ]
  },
  {
   "cell_type": "code",
   "execution_count": 12,
   "metadata": {
    "colab": {
     "base_uri": "https://localhost:8080/",
     "height": 363
    },
    "executionInfo": {
     "elapsed": 1181,
     "status": "ok",
     "timestamp": 1619650901617,
     "user": {
      "displayName": "2K18/CO/255 PRATEEK KUMAR",
      "photoUrl": "https://lh3.googleusercontent.com/a-/AOh14GiC24td7L6_hx_cF1QaHONUb-eXjy0d5Kfv-Cua=s64",
      "userId": "14371223947882262598"
     },
     "user_tz": -330
    },
    "id": "bWYcP5nANdcj",
    "outputId": "9ce93f52-9cad-469d-885c-323b028ec7c0"
   },
   "outputs": [
    {
     "data": {
      "text/html": [
       "<div>\n",
       "<style scoped>\n",
       "    .dataframe tbody tr th:only-of-type {\n",
       "        vertical-align: middle;\n",
       "    }\n",
       "\n",
       "    .dataframe tbody tr th {\n",
       "        vertical-align: top;\n",
       "    }\n",
       "\n",
       "    .dataframe thead th {\n",
       "        text-align: right;\n",
       "    }\n",
       "</style>\n",
       "<table border=\"1\" class=\"dataframe\">\n",
       "  <thead>\n",
       "    <tr style=\"text-align: right;\">\n",
       "      <th></th>\n",
       "      <th>label</th>\n",
       "      <th>idx</th>\n",
       "      <th>path</th>\n",
       "    </tr>\n",
       "  </thead>\n",
       "  <tbody>\n",
       "    <tr>\n",
       "      <th>0</th>\n",
       "      <td>elephant</td>\n",
       "      <td>2</td>\n",
       "      <td>./raw-img/elefante/OIP-eJKtqRMInapH-MBNDEOSEQH...</td>\n",
       "    </tr>\n",
       "    <tr>\n",
       "      <th>1</th>\n",
       "      <td>elephant</td>\n",
       "      <td>2</td>\n",
       "      <td>./raw-img/elefante/OIP-t4ZQXGwFfaaQIW7xpdXd8QH...</td>\n",
       "    </tr>\n",
       "    <tr>\n",
       "      <th>2</th>\n",
       "      <td>elephant</td>\n",
       "      <td>2</td>\n",
       "      <td>./raw-img/elefante/OIP-yoZ1Q3dD3VlNtSnBurtbswH...</td>\n",
       "    </tr>\n",
       "    <tr>\n",
       "      <th>3</th>\n",
       "      <td>elephant</td>\n",
       "      <td>2</td>\n",
       "      <td>./raw-img/elefante/OIP-KkSCX7eO9H4rI9CdJ5oszwA...</td>\n",
       "    </tr>\n",
       "    <tr>\n",
       "      <th>4</th>\n",
       "      <td>elephant</td>\n",
       "      <td>2</td>\n",
       "      <td>./raw-img/elefante/OIP-ocZik9gD_TXCo5W1f9EiIAH...</td>\n",
       "    </tr>\n",
       "    <tr>\n",
       "      <th>5</th>\n",
       "      <td>elephant</td>\n",
       "      <td>2</td>\n",
       "      <td>./raw-img/elefante/ea36b00b2ff6043ed1584d05fb1...</td>\n",
       "    </tr>\n",
       "    <tr>\n",
       "      <th>6</th>\n",
       "      <td>elephant</td>\n",
       "      <td>2</td>\n",
       "      <td>./raw-img/elefante/eb3db20b20fd063ed1584d05fb1...</td>\n",
       "    </tr>\n",
       "    <tr>\n",
       "      <th>7</th>\n",
       "      <td>elephant</td>\n",
       "      <td>2</td>\n",
       "      <td>./raw-img/elefante/eb32b50d28f1093ed1584d05fb1...</td>\n",
       "    </tr>\n",
       "    <tr>\n",
       "      <th>8</th>\n",
       "      <td>elephant</td>\n",
       "      <td>2</td>\n",
       "      <td>./raw-img/elefante/OIP-X6S-X5KAyxVrp_6B0hrMuQH...</td>\n",
       "    </tr>\n",
       "    <tr>\n",
       "      <th>9</th>\n",
       "      <td>elephant</td>\n",
       "      <td>2</td>\n",
       "      <td>./raw-img/elefante/OIP-rdI7fBNlbP41ERjbwUYJPAH...</td>\n",
       "    </tr>\n",
       "  </tbody>\n",
       "</table>\n",
       "</div>"
      ],
      "text/plain": [
       "      label  idx                                               path\n",
       "0  elephant    2  ./raw-img/elefante/OIP-eJKtqRMInapH-MBNDEOSEQH...\n",
       "1  elephant    2  ./raw-img/elefante/OIP-t4ZQXGwFfaaQIW7xpdXd8QH...\n",
       "2  elephant    2  ./raw-img/elefante/OIP-yoZ1Q3dD3VlNtSnBurtbswH...\n",
       "3  elephant    2  ./raw-img/elefante/OIP-KkSCX7eO9H4rI9CdJ5oszwA...\n",
       "4  elephant    2  ./raw-img/elefante/OIP-ocZik9gD_TXCo5W1f9EiIAH...\n",
       "5  elephant    2  ./raw-img/elefante/ea36b00b2ff6043ed1584d05fb1...\n",
       "6  elephant    2  ./raw-img/elefante/eb3db20b20fd063ed1584d05fb1...\n",
       "7  elephant    2  ./raw-img/elefante/eb32b50d28f1093ed1584d05fb1...\n",
       "8  elephant    2  ./raw-img/elefante/OIP-X6S-X5KAyxVrp_6B0hrMuQH...\n",
       "9  elephant    2  ./raw-img/elefante/OIP-rdI7fBNlbP41ERjbwUYJPAH..."
      ]
     },
     "execution_count": 12,
     "metadata": {
      "tags": []
     },
     "output_type": "execute_result"
    }
   ],
   "source": [
    "df=pd.DataFrame(data)\n",
    "df.head(n=10)"
   ]
  },
  {
   "cell_type": "code",
   "execution_count": 13,
   "metadata": {
    "colab": {
     "base_uri": "https://localhost:8080/"
    },
    "executionInfo": {
     "elapsed": 1929,
     "status": "ok",
     "timestamp": 1619650904161,
     "user": {
      "displayName": "2K18/CO/255 PRATEEK KUMAR",
      "photoUrl": "https://lh3.googleusercontent.com/a-/AOh14GiC24td7L6_hx_cF1QaHONUb-eXjy0d5Kfv-Cua=s64",
      "userId": "14371223947882262598"
     },
     "user_tz": -330
    },
    "id": "NJVtMsPaNqek",
    "outputId": "65bcd8cc-8edc-4bb6-a7cd-df02dbc69c7a"
   },
   "outputs": [
    {
     "name": "stdout",
     "output_type": "stream",
     "text": [
      "(26179, 3)\n"
     ]
    }
   ],
   "source": [
    "print(df.shape)"
   ]
  },
  {
   "cell_type": "code",
   "execution_count": 14,
   "metadata": {
    "executionInfo": {
     "elapsed": 1681,
     "status": "ok",
     "timestamp": 1619650904164,
     "user": {
      "displayName": "2K18/CO/255 PRATEEK KUMAR",
      "photoUrl": "https://lh3.googleusercontent.com/a-/AOh14GiC24td7L6_hx_cF1QaHONUb-eXjy0d5Kfv-Cua=s64",
      "userId": "14371223947882262598"
     },
     "user_tz": -330
    },
    "id": "oceYtx_MC85M"
   },
   "outputs": [],
   "source": [
    "df_train,df_val= train_test_split(df, test_size=0.23, random_state=42)\n",
    "df_train.reset_index(drop=True,inplace=True)\n",
    "df_val.reset_index(drop=True,inplace=True)"
   ]
  },
  {
   "cell_type": "code",
   "execution_count": 15,
   "metadata": {
    "colab": {
     "base_uri": "https://localhost:8080/"
    },
    "executionInfo": {
     "elapsed": 1408,
     "status": "ok",
     "timestamp": 1619650906532,
     "user": {
      "displayName": "2K18/CO/255 PRATEEK KUMAR",
      "photoUrl": "https://lh3.googleusercontent.com/a-/AOh14GiC24td7L6_hx_cF1QaHONUb-eXjy0d5Kfv-Cua=s64",
      "userId": "14371223947882262598"
     },
     "user_tz": -330
    },
    "id": "U7bDksW0O8I6",
    "outputId": "75b03e54-72d8-4913-c50d-123d356463ad"
   },
   "outputs": [
    {
     "name": "stdout",
     "output_type": "stream",
     "text": [
      "(20157, 3) (6022, 3)\n"
     ]
    }
   ],
   "source": [
    "print(df_train.shape,df_val.shape)"
   ]
  },
  {
   "cell_type": "code",
   "execution_count": 16,
   "metadata": {
    "executionInfo": {
     "elapsed": 1186,
     "status": "ok",
     "timestamp": 1619650906534,
     "user": {
      "displayName": "2K18/CO/255 PRATEEK KUMAR",
      "photoUrl": "https://lh3.googleusercontent.com/a-/AOh14GiC24td7L6_hx_cF1QaHONUb-eXjy0d5Kfv-Cua=s64",
      "userId": "14371223947882262598"
     },
     "user_tz": -330
    },
    "id": "d18jhfR-P53n"
   },
   "outputs": [],
   "source": [
    "class ImgDataSet(Dataset):\n",
    "    def __init__(self,df,transform=None):\n",
    "        self.df=df\n",
    "        self.transform=transform\n",
    "    \n",
    "    def __len__(self):\n",
    "        return self.df.shape[0]\n",
    "    \n",
    "    def __getitem__(self,idx):\n",
    "        img= Image.open(self.df.loc[idx,'path']).convert('RGB')\n",
    "        lbl= self.df.loc[idx,'idx']\n",
    "        if self.transform is not None:\n",
    "            img=self.transform(img)\n",
    "        return img,lbl"
   ]
  },
  {
   "cell_type": "code",
   "execution_count": 17,
   "metadata": {
    "executionInfo": {
     "elapsed": 1268,
     "status": "ok",
     "timestamp": 1619650909025,
     "user": {
      "displayName": "2K18/CO/255 PRATEEK KUMAR",
      "photoUrl": "https://lh3.googleusercontent.com/a-/AOh14GiC24td7L6_hx_cF1QaHONUb-eXjy0d5Kfv-Cua=s64",
      "userId": "14371223947882262598"
     },
     "user_tz": -330
    },
    "id": "VA7w9Q-2RJW0"
   },
   "outputs": [],
   "source": [
    "transform={\n",
    "    'train':transforms.Compose([\n",
    "        transforms.RandomResizedCrop(size=(224,224)),\n",
    "        transforms.ColorJitter(brightness=0.3,contrast=0.5),\n",
    "        transforms.RandomHorizontalFlip(p=0.5),\n",
    "        transforms.ToTensor(),\n",
    "        transforms.Normalize(mean=[0.485, 0.456, 0.406],std=[0.229, 0.224, 0.225])\n",
    "    ]),\n",
    "    'val':transforms.Compose([\n",
    "        transforms.Resize(size=(224,244)),\n",
    "        transforms.ToTensor(),\n",
    "        transforms.Normalize(mean=[0.485, 0.456, 0.406],std=[0.229, 0.224, 0.225])\n",
    "    ])\n",
    "}"
   ]
  },
  {
   "cell_type": "code",
   "execution_count": 18,
   "metadata": {
    "executionInfo": {
     "elapsed": 714,
     "status": "ok",
     "timestamp": 1619650910659,
     "user": {
      "displayName": "2K18/CO/255 PRATEEK KUMAR",
      "photoUrl": "https://lh3.googleusercontent.com/a-/AOh14GiC24td7L6_hx_cF1QaHONUb-eXjy0d5Kfv-Cua=s64",
      "userId": "14371223947882262598"
     },
     "user_tz": -330
    },
    "id": "OHyFqt2HSjIF"
   },
   "outputs": [],
   "source": [
    "train_set=ImgDataSet(df_train,transform=transform['train'])\n",
    "val_set=ImgDataSet(df_val,transform=transform['val'])"
   ]
  },
  {
   "cell_type": "markdown",
   "metadata": {
    "id": "Ji7ZUKM6nR7G"
   },
   "source": [
    "## Creating pytorch model\n",
    "### Here trannsfer learning is applied using Resnet-50 pretrained weights"
   ]
  },
  {
   "cell_type": "code",
   "execution_count": 19,
   "metadata": {
    "colab": {
     "base_uri": "https://localhost:8080/"
    },
    "executionInfo": {
     "elapsed": 14817,
     "status": "ok",
     "timestamp": 1619650927772,
     "user": {
      "displayName": "2K18/CO/255 PRATEEK KUMAR",
      "photoUrl": "https://lh3.googleusercontent.com/a-/AOh14GiC24td7L6_hx_cF1QaHONUb-eXjy0d5Kfv-Cua=s64",
      "userId": "14371223947882262598"
     },
     "user_tz": -330
    },
    "id": "sngmfTHrnRF8",
    "outputId": "b29db4c3-6604-4857-9535-28f20379c9f0"
   },
   "outputs": [
    {
     "data": {
      "text/plain": [
       "ImageClassifier(\n",
       "  (rs): ResNet(\n",
       "    (conv1): Conv2d(3, 64, kernel_size=(7, 7), stride=(2, 2), padding=(3, 3), bias=False)\n",
       "    (bn1): BatchNorm2d(64, eps=1e-05, momentum=0.1, affine=True, track_running_stats=True)\n",
       "    (relu): ReLU(inplace=True)\n",
       "    (maxpool): MaxPool2d(kernel_size=3, stride=2, padding=1, dilation=1, ceil_mode=False)\n",
       "    (layer1): Sequential(\n",
       "      (0): Bottleneck(\n",
       "        (conv1): Conv2d(64, 64, kernel_size=(1, 1), stride=(1, 1), bias=False)\n",
       "        (bn1): BatchNorm2d(64, eps=1e-05, momentum=0.1, affine=True, track_running_stats=True)\n",
       "        (conv2): Conv2d(64, 64, kernel_size=(3, 3), stride=(1, 1), padding=(1, 1), bias=False)\n",
       "        (bn2): BatchNorm2d(64, eps=1e-05, momentum=0.1, affine=True, track_running_stats=True)\n",
       "        (conv3): Conv2d(64, 256, kernel_size=(1, 1), stride=(1, 1), bias=False)\n",
       "        (bn3): BatchNorm2d(256, eps=1e-05, momentum=0.1, affine=True, track_running_stats=True)\n",
       "        (relu): ReLU(inplace=True)\n",
       "        (downsample): Sequential(\n",
       "          (0): Conv2d(64, 256, kernel_size=(1, 1), stride=(1, 1), bias=False)\n",
       "          (1): BatchNorm2d(256, eps=1e-05, momentum=0.1, affine=True, track_running_stats=True)\n",
       "        )\n",
       "      )\n",
       "      (1): Bottleneck(\n",
       "        (conv1): Conv2d(256, 64, kernel_size=(1, 1), stride=(1, 1), bias=False)\n",
       "        (bn1): BatchNorm2d(64, eps=1e-05, momentum=0.1, affine=True, track_running_stats=True)\n",
       "        (conv2): Conv2d(64, 64, kernel_size=(3, 3), stride=(1, 1), padding=(1, 1), bias=False)\n",
       "        (bn2): BatchNorm2d(64, eps=1e-05, momentum=0.1, affine=True, track_running_stats=True)\n",
       "        (conv3): Conv2d(64, 256, kernel_size=(1, 1), stride=(1, 1), bias=False)\n",
       "        (bn3): BatchNorm2d(256, eps=1e-05, momentum=0.1, affine=True, track_running_stats=True)\n",
       "        (relu): ReLU(inplace=True)\n",
       "      )\n",
       "      (2): Bottleneck(\n",
       "        (conv1): Conv2d(256, 64, kernel_size=(1, 1), stride=(1, 1), bias=False)\n",
       "        (bn1): BatchNorm2d(64, eps=1e-05, momentum=0.1, affine=True, track_running_stats=True)\n",
       "        (conv2): Conv2d(64, 64, kernel_size=(3, 3), stride=(1, 1), padding=(1, 1), bias=False)\n",
       "        (bn2): BatchNorm2d(64, eps=1e-05, momentum=0.1, affine=True, track_running_stats=True)\n",
       "        (conv3): Conv2d(64, 256, kernel_size=(1, 1), stride=(1, 1), bias=False)\n",
       "        (bn3): BatchNorm2d(256, eps=1e-05, momentum=0.1, affine=True, track_running_stats=True)\n",
       "        (relu): ReLU(inplace=True)\n",
       "      )\n",
       "    )\n",
       "    (layer2): Sequential(\n",
       "      (0): Bottleneck(\n",
       "        (conv1): Conv2d(256, 128, kernel_size=(1, 1), stride=(1, 1), bias=False)\n",
       "        (bn1): BatchNorm2d(128, eps=1e-05, momentum=0.1, affine=True, track_running_stats=True)\n",
       "        (conv2): Conv2d(128, 128, kernel_size=(3, 3), stride=(2, 2), padding=(1, 1), bias=False)\n",
       "        (bn2): BatchNorm2d(128, eps=1e-05, momentum=0.1, affine=True, track_running_stats=True)\n",
       "        (conv3): Conv2d(128, 512, kernel_size=(1, 1), stride=(1, 1), bias=False)\n",
       "        (bn3): BatchNorm2d(512, eps=1e-05, momentum=0.1, affine=True, track_running_stats=True)\n",
       "        (relu): ReLU(inplace=True)\n",
       "        (downsample): Sequential(\n",
       "          (0): Conv2d(256, 512, kernel_size=(1, 1), stride=(2, 2), bias=False)\n",
       "          (1): BatchNorm2d(512, eps=1e-05, momentum=0.1, affine=True, track_running_stats=True)\n",
       "        )\n",
       "      )\n",
       "      (1): Bottleneck(\n",
       "        (conv1): Conv2d(512, 128, kernel_size=(1, 1), stride=(1, 1), bias=False)\n",
       "        (bn1): BatchNorm2d(128, eps=1e-05, momentum=0.1, affine=True, track_running_stats=True)\n",
       "        (conv2): Conv2d(128, 128, kernel_size=(3, 3), stride=(1, 1), padding=(1, 1), bias=False)\n",
       "        (bn2): BatchNorm2d(128, eps=1e-05, momentum=0.1, affine=True, track_running_stats=True)\n",
       "        (conv3): Conv2d(128, 512, kernel_size=(1, 1), stride=(1, 1), bias=False)\n",
       "        (bn3): BatchNorm2d(512, eps=1e-05, momentum=0.1, affine=True, track_running_stats=True)\n",
       "        (relu): ReLU(inplace=True)\n",
       "      )\n",
       "      (2): Bottleneck(\n",
       "        (conv1): Conv2d(512, 128, kernel_size=(1, 1), stride=(1, 1), bias=False)\n",
       "        (bn1): BatchNorm2d(128, eps=1e-05, momentum=0.1, affine=True, track_running_stats=True)\n",
       "        (conv2): Conv2d(128, 128, kernel_size=(3, 3), stride=(1, 1), padding=(1, 1), bias=False)\n",
       "        (bn2): BatchNorm2d(128, eps=1e-05, momentum=0.1, affine=True, track_running_stats=True)\n",
       "        (conv3): Conv2d(128, 512, kernel_size=(1, 1), stride=(1, 1), bias=False)\n",
       "        (bn3): BatchNorm2d(512, eps=1e-05, momentum=0.1, affine=True, track_running_stats=True)\n",
       "        (relu): ReLU(inplace=True)\n",
       "      )\n",
       "      (3): Bottleneck(\n",
       "        (conv1): Conv2d(512, 128, kernel_size=(1, 1), stride=(1, 1), bias=False)\n",
       "        (bn1): BatchNorm2d(128, eps=1e-05, momentum=0.1, affine=True, track_running_stats=True)\n",
       "        (conv2): Conv2d(128, 128, kernel_size=(3, 3), stride=(1, 1), padding=(1, 1), bias=False)\n",
       "        (bn2): BatchNorm2d(128, eps=1e-05, momentum=0.1, affine=True, track_running_stats=True)\n",
       "        (conv3): Conv2d(128, 512, kernel_size=(1, 1), stride=(1, 1), bias=False)\n",
       "        (bn3): BatchNorm2d(512, eps=1e-05, momentum=0.1, affine=True, track_running_stats=True)\n",
       "        (relu): ReLU(inplace=True)\n",
       "      )\n",
       "    )\n",
       "    (layer3): Sequential(\n",
       "      (0): Bottleneck(\n",
       "        (conv1): Conv2d(512, 256, kernel_size=(1, 1), stride=(1, 1), bias=False)\n",
       "        (bn1): BatchNorm2d(256, eps=1e-05, momentum=0.1, affine=True, track_running_stats=True)\n",
       "        (conv2): Conv2d(256, 256, kernel_size=(3, 3), stride=(2, 2), padding=(1, 1), bias=False)\n",
       "        (bn2): BatchNorm2d(256, eps=1e-05, momentum=0.1, affine=True, track_running_stats=True)\n",
       "        (conv3): Conv2d(256, 1024, kernel_size=(1, 1), stride=(1, 1), bias=False)\n",
       "        (bn3): BatchNorm2d(1024, eps=1e-05, momentum=0.1, affine=True, track_running_stats=True)\n",
       "        (relu): ReLU(inplace=True)\n",
       "        (downsample): Sequential(\n",
       "          (0): Conv2d(512, 1024, kernel_size=(1, 1), stride=(2, 2), bias=False)\n",
       "          (1): BatchNorm2d(1024, eps=1e-05, momentum=0.1, affine=True, track_running_stats=True)\n",
       "        )\n",
       "      )\n",
       "      (1): Bottleneck(\n",
       "        (conv1): Conv2d(1024, 256, kernel_size=(1, 1), stride=(1, 1), bias=False)\n",
       "        (bn1): BatchNorm2d(256, eps=1e-05, momentum=0.1, affine=True, track_running_stats=True)\n",
       "        (conv2): Conv2d(256, 256, kernel_size=(3, 3), stride=(1, 1), padding=(1, 1), bias=False)\n",
       "        (bn2): BatchNorm2d(256, eps=1e-05, momentum=0.1, affine=True, track_running_stats=True)\n",
       "        (conv3): Conv2d(256, 1024, kernel_size=(1, 1), stride=(1, 1), bias=False)\n",
       "        (bn3): BatchNorm2d(1024, eps=1e-05, momentum=0.1, affine=True, track_running_stats=True)\n",
       "        (relu): ReLU(inplace=True)\n",
       "      )\n",
       "      (2): Bottleneck(\n",
       "        (conv1): Conv2d(1024, 256, kernel_size=(1, 1), stride=(1, 1), bias=False)\n",
       "        (bn1): BatchNorm2d(256, eps=1e-05, momentum=0.1, affine=True, track_running_stats=True)\n",
       "        (conv2): Conv2d(256, 256, kernel_size=(3, 3), stride=(1, 1), padding=(1, 1), bias=False)\n",
       "        (bn2): BatchNorm2d(256, eps=1e-05, momentum=0.1, affine=True, track_running_stats=True)\n",
       "        (conv3): Conv2d(256, 1024, kernel_size=(1, 1), stride=(1, 1), bias=False)\n",
       "        (bn3): BatchNorm2d(1024, eps=1e-05, momentum=0.1, affine=True, track_running_stats=True)\n",
       "        (relu): ReLU(inplace=True)\n",
       "      )\n",
       "      (3): Bottleneck(\n",
       "        (conv1): Conv2d(1024, 256, kernel_size=(1, 1), stride=(1, 1), bias=False)\n",
       "        (bn1): BatchNorm2d(256, eps=1e-05, momentum=0.1, affine=True, track_running_stats=True)\n",
       "        (conv2): Conv2d(256, 256, kernel_size=(3, 3), stride=(1, 1), padding=(1, 1), bias=False)\n",
       "        (bn2): BatchNorm2d(256, eps=1e-05, momentum=0.1, affine=True, track_running_stats=True)\n",
       "        (conv3): Conv2d(256, 1024, kernel_size=(1, 1), stride=(1, 1), bias=False)\n",
       "        (bn3): BatchNorm2d(1024, eps=1e-05, momentum=0.1, affine=True, track_running_stats=True)\n",
       "        (relu): ReLU(inplace=True)\n",
       "      )\n",
       "      (4): Bottleneck(\n",
       "        (conv1): Conv2d(1024, 256, kernel_size=(1, 1), stride=(1, 1), bias=False)\n",
       "        (bn1): BatchNorm2d(256, eps=1e-05, momentum=0.1, affine=True, track_running_stats=True)\n",
       "        (conv2): Conv2d(256, 256, kernel_size=(3, 3), stride=(1, 1), padding=(1, 1), bias=False)\n",
       "        (bn2): BatchNorm2d(256, eps=1e-05, momentum=0.1, affine=True, track_running_stats=True)\n",
       "        (conv3): Conv2d(256, 1024, kernel_size=(1, 1), stride=(1, 1), bias=False)\n",
       "        (bn3): BatchNorm2d(1024, eps=1e-05, momentum=0.1, affine=True, track_running_stats=True)\n",
       "        (relu): ReLU(inplace=True)\n",
       "      )\n",
       "      (5): Bottleneck(\n",
       "        (conv1): Conv2d(1024, 256, kernel_size=(1, 1), stride=(1, 1), bias=False)\n",
       "        (bn1): BatchNorm2d(256, eps=1e-05, momentum=0.1, affine=True, track_running_stats=True)\n",
       "        (conv2): Conv2d(256, 256, kernel_size=(3, 3), stride=(1, 1), padding=(1, 1), bias=False)\n",
       "        (bn2): BatchNorm2d(256, eps=1e-05, momentum=0.1, affine=True, track_running_stats=True)\n",
       "        (conv3): Conv2d(256, 1024, kernel_size=(1, 1), stride=(1, 1), bias=False)\n",
       "        (bn3): BatchNorm2d(1024, eps=1e-05, momentum=0.1, affine=True, track_running_stats=True)\n",
       "        (relu): ReLU(inplace=True)\n",
       "      )\n",
       "    )\n",
       "    (layer4): Sequential(\n",
       "      (0): Bottleneck(\n",
       "        (conv1): Conv2d(1024, 512, kernel_size=(1, 1), stride=(1, 1), bias=False)\n",
       "        (bn1): BatchNorm2d(512, eps=1e-05, momentum=0.1, affine=True, track_running_stats=True)\n",
       "        (conv2): Conv2d(512, 512, kernel_size=(3, 3), stride=(2, 2), padding=(1, 1), bias=False)\n",
       "        (bn2): BatchNorm2d(512, eps=1e-05, momentum=0.1, affine=True, track_running_stats=True)\n",
       "        (conv3): Conv2d(512, 2048, kernel_size=(1, 1), stride=(1, 1), bias=False)\n",
       "        (bn3): BatchNorm2d(2048, eps=1e-05, momentum=0.1, affine=True, track_running_stats=True)\n",
       "        (relu): ReLU(inplace=True)\n",
       "        (downsample): Sequential(\n",
       "          (0): Conv2d(1024, 2048, kernel_size=(1, 1), stride=(2, 2), bias=False)\n",
       "          (1): BatchNorm2d(2048, eps=1e-05, momentum=0.1, affine=True, track_running_stats=True)\n",
       "        )\n",
       "      )\n",
       "      (1): Bottleneck(\n",
       "        (conv1): Conv2d(2048, 512, kernel_size=(1, 1), stride=(1, 1), bias=False)\n",
       "        (bn1): BatchNorm2d(512, eps=1e-05, momentum=0.1, affine=True, track_running_stats=True)\n",
       "        (conv2): Conv2d(512, 512, kernel_size=(3, 3), stride=(1, 1), padding=(1, 1), bias=False)\n",
       "        (bn2): BatchNorm2d(512, eps=1e-05, momentum=0.1, affine=True, track_running_stats=True)\n",
       "        (conv3): Conv2d(512, 2048, kernel_size=(1, 1), stride=(1, 1), bias=False)\n",
       "        (bn3): BatchNorm2d(2048, eps=1e-05, momentum=0.1, affine=True, track_running_stats=True)\n",
       "        (relu): ReLU(inplace=True)\n",
       "      )\n",
       "      (2): Bottleneck(\n",
       "        (conv1): Conv2d(2048, 512, kernel_size=(1, 1), stride=(1, 1), bias=False)\n",
       "        (bn1): BatchNorm2d(512, eps=1e-05, momentum=0.1, affine=True, track_running_stats=True)\n",
       "        (conv2): Conv2d(512, 512, kernel_size=(3, 3), stride=(1, 1), padding=(1, 1), bias=False)\n",
       "        (bn2): BatchNorm2d(512, eps=1e-05, momentum=0.1, affine=True, track_running_stats=True)\n",
       "        (conv3): Conv2d(512, 2048, kernel_size=(1, 1), stride=(1, 1), bias=False)\n",
       "        (bn3): BatchNorm2d(2048, eps=1e-05, momentum=0.1, affine=True, track_running_stats=True)\n",
       "        (relu): ReLU(inplace=True)\n",
       "      )\n",
       "    )\n",
       "    (avgpool): AdaptiveAvgPool2d(output_size=(1, 1))\n",
       "    (fc): Sequential(\n",
       "      (0): Dropout(p=0.5, inplace=False)\n",
       "      (1): Linear(in_features=2048, out_features=10, bias=True)\n",
       "    )\n",
       "  )\n",
       ")"
      ]
     },
     "execution_count": 19,
     "metadata": {
      "tags": []
     },
     "output_type": "execute_result"
    }
   ],
   "source": [
    "class ImageClassifier(nn.Module):\n",
    "    def __init__(self):\n",
    "        super(ImageClassifier,self).__init__()\n",
    "        rs=resnet50(pretrained=True)\n",
    "        for i in rs.parameters():\n",
    "            i.requires_grad=False\n",
    "        rs.fc=nn.Sequential(nn.Dropout(p=0.5,inplace=False),nn.Linear(in_features=2048, out_features=10,bias=True))\n",
    "        self.rs=rs\n",
    "    \n",
    "    def forward(self,x):\n",
    "        return self.rs(x)\n",
    "\n",
    "model= ImageClassifier()\n",
    "model.to(device)"
   ]
  },
  {
   "cell_type": "code",
   "execution_count": 20,
   "metadata": {
    "colab": {
     "base_uri": "https://localhost:8080/"
    },
    "executionInfo": {
     "elapsed": 11558,
     "status": "ok",
     "timestamp": 1619650927777,
     "user": {
      "displayName": "2K18/CO/255 PRATEEK KUMAR",
      "photoUrl": "https://lh3.googleusercontent.com/a-/AOh14GiC24td7L6_hx_cF1QaHONUb-eXjy0d5Kfv-Cua=s64",
      "userId": "14371223947882262598"
     },
     "user_tz": -330
    },
    "id": "44wq7Gukdvw0",
    "outputId": "356eb9a6-587b-481b-c7a2-0f47f24f0f2a"
   },
   "outputs": [
    {
     "name": "stdout",
     "output_type": "stream",
     "text": [
      "total=23528522,trainable=20490\n"
     ]
    }
   ],
   "source": [
    "total=0\n",
    "trainable=0\n",
    "for i in model.parameters():\n",
    "    if i.requires_grad==True:\n",
    "        trainable+=i.numel()\n",
    "    total+=i.numel()\n",
    "print(f'total={total},trainable={trainable}')"
   ]
  },
  {
   "cell_type": "markdown",
   "metadata": {
    "id": "8WNWONodVR8z"
   },
   "source": [
    "### Training Loop"
   ]
  },
  {
   "cell_type": "code",
   "execution_count": 24,
   "metadata": {
    "executionInfo": {
     "elapsed": 1050,
     "status": "ok",
     "timestamp": 1619645720196,
     "user": {
      "displayName": "2K18/CO/255 PRATEEK KUMAR",
      "photoUrl": "https://lh3.googleusercontent.com/a-/AOh14GiC24td7L6_hx_cF1QaHONUb-eXjy0d5Kfv-Cua=s64",
      "userId": "14371223947882262598"
     },
     "user_tz": -330
    },
    "id": "n1heGAoSV_V3"
   },
   "outputs": [],
   "source": [
    "mw='./weights'\n",
    "os.mkdir(mw)"
   ]
  },
  {
   "cell_type": "code",
   "execution_count": 26,
   "metadata": {
    "executionInfo": {
     "elapsed": 791,
     "status": "ok",
     "timestamp": 1619645741735,
     "user": {
      "displayName": "2K18/CO/255 PRATEEK KUMAR",
      "photoUrl": "https://lh3.googleusercontent.com/a-/AOh14GiC24td7L6_hx_cF1QaHONUb-eXjy0d5Kfv-Cua=s64",
      "userId": "14371223947882262598"
     },
     "user_tz": -330
    },
    "id": "BSQnrWwKX5dh"
   },
   "outputs": [],
   "source": [
    "total_size=df.shape[0]\n",
    "train_size=df_train.shape[0]\n",
    "val_size=df_val.shape[0]"
   ]
  },
  {
   "cell_type": "code",
   "execution_count": 47,
   "metadata": {
    "executionInfo": {
     "elapsed": 881,
     "status": "ok",
     "timestamp": 1619648912048,
     "user": {
      "displayName": "2K18/CO/255 PRATEEK KUMAR",
      "photoUrl": "https://lh3.googleusercontent.com/a-/AOh14GiC24td7L6_hx_cF1QaHONUb-eXjy0d5Kfv-Cua=s64",
      "userId": "14371223947882262598"
     },
     "user_tz": -330
    },
    "id": "7wPqFsYqWDEe"
   },
   "outputs": [],
   "source": [
    "batch_size=32\n",
    "epochs=5\n",
    "optim=Adam(model.parameters(),lr=0.003)"
   ]
  },
  {
   "cell_type": "code",
   "execution_count": 26,
   "metadata": {
    "executionInfo": {
     "elapsed": 765,
     "status": "ok",
     "timestamp": 1619651391366,
     "user": {
      "displayName": "2K18/CO/255 PRATEEK KUMAR",
      "photoUrl": "https://lh3.googleusercontent.com/a-/AOh14GiC24td7L6_hx_cF1QaHONUb-eXjy0d5Kfv-Cua=s64",
      "userId": "14371223947882262598"
     },
     "user_tz": -330
    },
    "id": "nEuZytW_bqay"
   },
   "outputs": [],
   "source": [
    "def accuracy(preds,labels):\n",
    "    return (torch.argmax(preds,dim=1)==labels).sum().item()"
   ]
  },
  {
   "cell_type": "code",
   "execution_count": 48,
   "metadata": {
    "colab": {
     "base_uri": "https://localhost:8080/"
    },
    "executionInfo": {
     "elapsed": 1107679,
     "status": "ok",
     "timestamp": 1619650025257,
     "user": {
      "displayName": "2K18/CO/255 PRATEEK KUMAR",
      "photoUrl": "https://lh3.googleusercontent.com/a-/AOh14GiC24td7L6_hx_cF1QaHONUb-eXjy0d5Kfv-Cua=s64",
      "userId": "14371223947882262598"
     },
     "user_tz": -330
    },
    "id": "llGWNKQHVzZH",
    "outputId": "a206afec-df5c-4996-956c-7b1ed14c49c8"
   },
   "outputs": [
    {
     "name": "stdout",
     "output_type": "stream",
     "text": [
      "epoch 1/5 started:   ............\n",
      " validating please weight  .........\n",
      "epoch 1/5 train_loss=0.5291842309749183,train_acc=0.8389145210100709,val_loss=0.23578002001654277,val_acc=0.9368980405181003\n",
      "epoch 2/5 started:   ............\n",
      " validating please weight  .........\n",
      "epoch 2/5 train_loss=0.530118098962217,train_acc=0.8579153643895421,val_loss=0.30896097327027705,val_acc=0.9201262039189638\n",
      "epoch 3/5 started:   ............\n",
      " validating please weight  .........\n",
      "epoch 3/5 train_loss=0.5861240016897645,train_acc=0.8543434042764301,val_loss=0.35723645816200433,val_acc=0.911989372301561\n",
      "epoch 4/5 started:   ............\n",
      " validating please weight  .........\n",
      "epoch 4/5 train_loss=0.599935242654504,train_acc=0.8629756412164509,val_loss=0.3123889296189287,val_acc=0.9256061109266025\n",
      "epoch 5/5 started:   ............\n",
      " validating please weight  .........\n",
      "epoch 5/5 train_loss=0.6419358708035491,train_acc=0.8572208165897703,val_loss=0.4282537503638602,val_acc=0.9081700431750249\n"
     ]
    }
   ],
   "source": [
    "train_losses=[]\n",
    "val_losses=[]\n",
    "train_acc=[]\n",
    "val_acc=[]\n",
    "train_step= train_size//batch_size\n",
    "val_step=val_size//batch_size\n",
    "for epoch in range(epochs):\n",
    "    print(f'epoch {epoch+1}/{epochs} started: ',end='  ')\n",
    "    train_dl=DataLoader(train_set,batch_size,shuffle=True)\n",
    "    val_dl=DataLoader(val_set,batch_size,shuffle=True)\n",
    "    tloss=0\n",
    "    tacc=0\n",
    "    vloss=0\n",
    "    vacc=0\n",
    "    for i,(x,y) in enumerate(train_dl):\n",
    "        x,y = moveToDevice(x,y)\n",
    "        optim.zero_grad()\n",
    "        y_pred=model(x)\n",
    "        loss=F.cross_entropy(y_pred,y)\n",
    "        loss.backward()\n",
    "        optim.step()\n",
    "        tloss+=loss.item()\n",
    "        tacc+=accuracy(y_pred,y)\n",
    "        if (i+10)%50==0:\n",
    "            print('.',end='')\n",
    "    tloss/=train_step\n",
    "    tacc=tacc/train_size\n",
    "    train_losses.append(tloss)\n",
    "    train_acc.append(tacc)\n",
    "    #validating\n",
    "    print('\\n validating please weight',end='  ')\n",
    "    with torch.no_grad():\n",
    "        for j,(x,y) in enumerate(val_dl):\n",
    "            x,y = moveToDevice(x,y)\n",
    "            y_pred=model(x)\n",
    "            loss=F.cross_entropy(y_pred,y)\n",
    "            vloss+=loss.item()\n",
    "            vacc+=accuracy(y_pred,y)\n",
    "            if (j+1)%20==0:\n",
    "                print('.',end='')\n",
    "        vloss/=val_step\n",
    "        vacc=vacc/val_size\n",
    "        val_losses.append(vloss)\n",
    "        val_acc.append(vacc)   \n",
    "    print('\\nepoch {}/{} train_loss={},train_acc={},val_loss={},val_acc={}'.format(epoch+1,epochs,tloss,tacc,vloss,vacc))\n",
    "    torch.save(model.state_dict(), 'weights/epoch_{}.pth'.format(epoch+1))"
   ]
  },
  {
   "cell_type": "markdown",
   "metadata": {
    "id": "51E_Mk3aegV3"
   },
   "source": [
    "### Plotting Results"
   ]
  },
  {
   "cell_type": "code",
   "execution_count": 49,
   "metadata": {
    "executionInfo": {
     "elapsed": 1340,
     "status": "ok",
     "timestamp": 1619650056447,
     "user": {
      "displayName": "2K18/CO/255 PRATEEK KUMAR",
      "photoUrl": "https://lh3.googleusercontent.com/a-/AOh14GiC24td7L6_hx_cF1QaHONUb-eXjy0d5Kfv-Cua=s64",
      "userId": "14371223947882262598"
     },
     "user_tz": -330
    },
    "id": "vCxmTZV7Vbx0"
   },
   "outputs": [],
   "source": [
    "def plotGraph(train_losses,val_losses,train_acc,val_acc):\n",
    "    plt.figure(figsize=(8,8))\n",
    "    plt.plot(train_losses,label='train_losses')\n",
    "    plt.plot(val_losses,label='val_loss')\n",
    "    plt.legend()\n",
    "    plt.show()\n",
    "    plt.figure(figsize=(8,8))\n",
    "    plt.plot(train_acc,label='train_acc')\n",
    "    plt.plot(val_acc,label='val_acc')\n",
    "    plt.legend()\n",
    "    plt.show()"
   ]
  },
  {
   "cell_type": "code",
   "execution_count": 50,
   "metadata": {
    "colab": {
     "base_uri": "https://localhost:8080/",
     "height": 949
    },
    "executionInfo": {
     "elapsed": 2256,
     "status": "ok",
     "timestamp": 1619650057680,
     "user": {
      "displayName": "2K18/CO/255 PRATEEK KUMAR",
      "photoUrl": "https://lh3.googleusercontent.com/a-/AOh14GiC24td7L6_hx_cF1QaHONUb-eXjy0d5Kfv-Cua=s64",
      "userId": "14371223947882262598"
     },
     "user_tz": -330
    },
    "id": "nzsko0xdqyCK",
    "outputId": "deb984ea-d3a0-4fac-d145-4246fe33bddb"
   },
   "outputs": [
    {
     "data": {
      "image/png": "[encoded data removed]",
      "text/plain": [
       "<Figure size 576x576 with 1 Axes>"
      ]
     },
     "metadata": {
      "needs_background": "light",
      "tags": []
     },
     "output_type": "display_data"
    },
    {
     "data": {
      "image/png": "[encoded data removed]",
      "text/plain": [
       "<Figure size 576x576 with 1 Axes>"
      ]
     },
     "metadata": {
      "needs_background": "light",
      "tags": []
     },
     "output_type": "display_data"
    }
   ],
   "source": [
    "plotGraph(train_losses,val_losses,train_acc,val_acc)"
   ]
  },
  {
   "cell_type": "markdown",
   "metadata": {
    "id": "yYyJUW--ekRI"
   },
   "source": [
    "### Evaluating model on complete Dataset"
   ]
  },
  {
   "cell_type": "code",
   "execution_count": null,
   "metadata": {
    "id": "ylF5rYe-etXO"
   },
   "outputs": [],
   "source": [
    "model.load_state_dict(torch.load(f'weights/epoch_1.pth'))\n",
    "model.eval()"
   ]
  },
  {
   "cell_type": "code",
   "execution_count": 39,
   "metadata": {
    "executionInfo": {
     "elapsed": 1016,
     "status": "ok",
     "timestamp": 1619652359047,
     "user": {
      "displayName": "2K18/CO/255 PRATEEK KUMAR",
      "photoUrl": "https://lh3.googleusercontent.com/a-/AOh14GiC24td7L6_hx_cF1QaHONUb-eXjy0d5Kfv-Cua=s64",
      "userId": "14371223947882262598"
     },
     "user_tz": -330
    },
    "id": "H0rgD-HgetQ6"
   },
   "outputs": [],
   "source": [
    "def checkMetrics(model,df,batch_size):\n",
    "    dl=DataLoader(ImgDataSet(df,transform=transform['val']),batch_size,shuffle=False)\n",
    "    step=df.shape[0]//batch_size\n",
    "    total_loss=0\n",
    "    acc=0\n",
    "    y_true=[]\n",
    "    y_pred=[]\n",
    "    print('Evaluating Results please wait ',end='')\n",
    "    with torch.no_grad():\n",
    "        for n,(x,y) in enumerate(dl):\n",
    "            x,y = moveToDevice(x,y)\n",
    "            y_=model(x)\n",
    "            loss=F.cross_entropy(y_,y)\n",
    "            total_loss+=loss.item()\n",
    "            acc+=accuracy(y_,y)\n",
    "            y_=torch.argmax(y_,dim=1).cpu().numpy()\n",
    "            for i in range(len(x)):\n",
    "                y_true.append(idx_to_label[y[i].cpu().item()])\n",
    "                y_pred.append(idx_to_label[y_[i]])\n",
    "            if (n+1)%100==0:\n",
    "                print('.',end='')\n",
    "        total_loss/=step\n",
    "        acc/=df.shape[0]\n",
    "    #Confusion Matrix\n",
    "    print()\n",
    "    col=np.unique(y_true)\n",
    "    mat=metrics.confusion_matrix(y_true,y_pred)\n",
    "    data={col[n]+'-Pred':mat.T[n] for n in range(len(col))}\n",
    "    df=pd.DataFrame(data)\n",
    "    df.index=[i+'-Real' for i in col]\n",
    "    result={'pred':y_pred,'loss':total_loss,'acc':acc,'metrics':metrics.classification_report(y_true,y_pred),'confusion_matrix':df}\n",
    "    return result"
   ]
  },
  {
   "cell_type": "code",
   "execution_count": 40,
   "metadata": {
    "colab": {
     "base_uri": "https://localhost:8080/"
    },
    "executionInfo": {
     "elapsed": 195222,
     "status": "ok",
     "timestamp": 1619652553766,
     "user": {
      "displayName": "2K18/CO/255 PRATEEK KUMAR",
      "photoUrl": "https://lh3.googleusercontent.com/a-/AOh14GiC24td7L6_hx_cF1QaHONUb-eXjy0d5Kfv-Cua=s64",
      "userId": "14371223947882262598"
     },
     "user_tz": -330
    },
    "id": "qL2c0ENffYHQ",
    "outputId": "6325ac59-d7b5-4862-9e7b-ec151a96402c"
   },
   "outputs": [
    {
     "name": "stdout",
     "output_type": "stream",
     "text": [
      "Evaluating Results please wait ........\n"
     ]
    }
   ],
   "source": [
    "result=checkMetrics(model,df,32)"
   ]
  },
  {
   "cell_type": "code",
   "execution_count": 41,
   "metadata": {
    "colab": {
     "base_uri": "https://localhost:8080/"
    },
    "executionInfo": {
     "elapsed": 818,
     "status": "ok",
     "timestamp": 1619652567754,
     "user": {
      "displayName": "2K18/CO/255 PRATEEK KUMAR",
      "photoUrl": "https://lh3.googleusercontent.com/a-/AOh14GiC24td7L6_hx_cF1QaHONUb-eXjy0d5Kfv-Cua=s64",
      "userId": "14371223947882262598"
     },
     "user_tz": -330
    },
    "id": "3UFh9utZfYDj",
    "outputId": "2000f1e8-ec88-40c6-f63e-902b97c6d2ac"
   },
   "outputs": [
    {
     "name": "stdout",
     "output_type": "stream",
     "text": [
      "Loss=0.119095710436285, Accuracy=0.9648955269490813\n",
      "              precision    recall  f1-score   support\n",
      "\n",
      "   butterfly       0.98      0.96      0.97      2112\n",
      "         cat       0.97      0.97      0.97      1668\n",
      "     chicken       0.99      0.97      0.98      3098\n",
      "         cow       0.90      0.91      0.91      1866\n",
      "         dog       0.97      0.97      0.97      4863\n",
      "    elephant       0.98      0.98      0.98      1446\n",
      "       horse       0.96      0.94      0.95      2623\n",
      "       sheep       0.92      0.95      0.93      1820\n",
      "      spider       0.98      0.99      0.98      4821\n",
      "    squirrel       0.96      0.98      0.97      1862\n",
      "\n",
      "    accuracy                           0.96     26179\n",
      "   macro avg       0.96      0.96      0.96     26179\n",
      "weighted avg       0.97      0.96      0.96     26179\n",
      "\n"
     ]
    }
   ],
   "source": [
    "print(f\"Loss={result['loss']}, Accuracy={result['acc']}\")\n",
    "print(result['metrics'])"
   ]
  },
  {
   "cell_type": "code",
   "execution_count": 42,
   "metadata": {
    "colab": {
     "base_uri": "https://localhost:8080/",
     "height": 363
    },
    "executionInfo": {
     "elapsed": 1060,
     "status": "ok",
     "timestamp": 1619652576772,
     "user": {
      "displayName": "2K18/CO/255 PRATEEK KUMAR",
      "photoUrl": "https://lh3.googleusercontent.com/a-/AOh14GiC24td7L6_hx_cF1QaHONUb-eXjy0d5Kfv-Cua=s64",
      "userId": "14371223947882262598"
     },
     "user_tz": -330
    },
    "id": "K3ETKLhOfbGc",
    "outputId": "63789ab3-31eb-4467-891c-2e992eda4908"
   },
   "outputs": [
    {
     "data": {
      "text/html": [
       "<div>\n",
       "<style scoped>\n",
       "    .dataframe tbody tr th:only-of-type {\n",
       "        vertical-align: middle;\n",
       "    }\n",
       "\n",
       "    .dataframe tbody tr th {\n",
       "        vertical-align: top;\n",
       "    }\n",
       "\n",
       "    .dataframe thead th {\n",
       "        text-align: right;\n",
       "    }\n",
       "</style>\n",
       "<table border=\"1\" class=\"dataframe\">\n",
       "  <thead>\n",
       "    <tr style=\"text-align: right;\">\n",
       "      <th></th>\n",
       "      <th>butterfly-Pred</th>\n",
       "      <th>cat-Pred</th>\n",
       "      <th>chicken-Pred</th>\n",
       "      <th>cow-Pred</th>\n",
       "      <th>dog-Pred</th>\n",
       "      <th>elephant-Pred</th>\n",
       "      <th>horse-Pred</th>\n",
       "      <th>sheep-Pred</th>\n",
       "      <th>spider-Pred</th>\n",
       "      <th>squirrel-Pred</th>\n",
       "    </tr>\n",
       "  </thead>\n",
       "  <tbody>\n",
       "    <tr>\n",
       "      <th>butterfly-Real</th>\n",
       "      <td>2023</td>\n",
       "      <td>3</td>\n",
       "      <td>5</td>\n",
       "      <td>2</td>\n",
       "      <td>7</td>\n",
       "      <td>1</td>\n",
       "      <td>0</td>\n",
       "      <td>1</td>\n",
       "      <td>62</td>\n",
       "      <td>8</td>\n",
       "    </tr>\n",
       "    <tr>\n",
       "      <th>cat-Real</th>\n",
       "      <td>1</td>\n",
       "      <td>1612</td>\n",
       "      <td>0</td>\n",
       "      <td>0</td>\n",
       "      <td>30</td>\n",
       "      <td>1</td>\n",
       "      <td>1</td>\n",
       "      <td>4</td>\n",
       "      <td>2</td>\n",
       "      <td>17</td>\n",
       "    </tr>\n",
       "    <tr>\n",
       "      <th>chicken-Real</th>\n",
       "      <td>5</td>\n",
       "      <td>2</td>\n",
       "      <td>3005</td>\n",
       "      <td>7</td>\n",
       "      <td>23</td>\n",
       "      <td>4</td>\n",
       "      <td>5</td>\n",
       "      <td>8</td>\n",
       "      <td>25</td>\n",
       "      <td>14</td>\n",
       "    </tr>\n",
       "    <tr>\n",
       "      <th>cow-Real</th>\n",
       "      <td>2</td>\n",
       "      <td>2</td>\n",
       "      <td>2</td>\n",
       "      <td>1697</td>\n",
       "      <td>12</td>\n",
       "      <td>6</td>\n",
       "      <td>62</td>\n",
       "      <td>79</td>\n",
       "      <td>2</td>\n",
       "      <td>2</td>\n",
       "    </tr>\n",
       "    <tr>\n",
       "      <th>dog-Real</th>\n",
       "      <td>7</td>\n",
       "      <td>30</td>\n",
       "      <td>7</td>\n",
       "      <td>27</td>\n",
       "      <td>4713</td>\n",
       "      <td>5</td>\n",
       "      <td>31</td>\n",
       "      <td>22</td>\n",
       "      <td>5</td>\n",
       "      <td>16</td>\n",
       "    </tr>\n",
       "    <tr>\n",
       "      <th>elephant-Real</th>\n",
       "      <td>0</td>\n",
       "      <td>0</td>\n",
       "      <td>0</td>\n",
       "      <td>2</td>\n",
       "      <td>1</td>\n",
       "      <td>1424</td>\n",
       "      <td>4</td>\n",
       "      <td>10</td>\n",
       "      <td>3</td>\n",
       "      <td>2</td>\n",
       "    </tr>\n",
       "    <tr>\n",
       "      <th>horse-Real</th>\n",
       "      <td>1</td>\n",
       "      <td>3</td>\n",
       "      <td>0</td>\n",
       "      <td>80</td>\n",
       "      <td>36</td>\n",
       "      <td>8</td>\n",
       "      <td>2469</td>\n",
       "      <td>22</td>\n",
       "      <td>3</td>\n",
       "      <td>1</td>\n",
       "    </tr>\n",
       "    <tr>\n",
       "      <th>sheep-Real</th>\n",
       "      <td>0</td>\n",
       "      <td>0</td>\n",
       "      <td>0</td>\n",
       "      <td>60</td>\n",
       "      <td>14</td>\n",
       "      <td>5</td>\n",
       "      <td>9</td>\n",
       "      <td>1721</td>\n",
       "      <td>2</td>\n",
       "      <td>9</td>\n",
       "    </tr>\n",
       "    <tr>\n",
       "      <th>spider-Real</th>\n",
       "      <td>30</td>\n",
       "      <td>1</td>\n",
       "      <td>2</td>\n",
       "      <td>0</td>\n",
       "      <td>4</td>\n",
       "      <td>4</td>\n",
       "      <td>2</td>\n",
       "      <td>1</td>\n",
       "      <td>4771</td>\n",
       "      <td>6</td>\n",
       "    </tr>\n",
       "    <tr>\n",
       "      <th>squirrel-Real</th>\n",
       "      <td>2</td>\n",
       "      <td>5</td>\n",
       "      <td>3</td>\n",
       "      <td>3</td>\n",
       "      <td>10</td>\n",
       "      <td>1</td>\n",
       "      <td>1</td>\n",
       "      <td>7</td>\n",
       "      <td>5</td>\n",
       "      <td>1825</td>\n",
       "    </tr>\n",
       "  </tbody>\n",
       "</table>\n",
       "</div>"
      ],
      "text/plain": [
       "                butterfly-Pred  cat-Pred  ...  spider-Pred  squirrel-Pred\n",
       "butterfly-Real            2023         3  ...           62              8\n",
       "cat-Real                     1      1612  ...            2             17\n",
       "chicken-Real                 5         2  ...           25             14\n",
       "cow-Real                     2         2  ...            2              2\n",
       "dog-Real                     7        30  ...            5             16\n",
       "elephant-Real                0         0  ...            3              2\n",
       "horse-Real                   1         3  ...            3              1\n",
       "sheep-Real                   0         0  ...            2              9\n",
       "spider-Real                 30         1  ...         4771              6\n",
       "squirrel-Real                2         5  ...            5           1825\n",
       "\n",
       "[10 rows x 10 columns]"
      ]
     },
     "execution_count": 42,
     "metadata": {
      "tags": []
     },
     "output_type": "execute_result"
    }
   ],
   "source": [
    "result['confusion_matrix']"
   ]
  },
  {
   "cell_type": "code",
   "execution_count": null,
   "metadata": {
    "id": "uzrD6t90uFe8"
   },
   "outputs": [],
   "source": []
  }
 ],
 "metadata": {
  "accelerator": "GPU",
  "colab": {
   "collapsed_sections": [],
   "name": "animal_classifier.ipynb",
   "provenance": []
  },
  "kernelspec": {
   "display_name": "Python 3",
   "language": "python",
   "name": "python3"
  },
  "language_info": {
   "codemirror_mode": {
    "name": "ipython",
    "version": 3
   },
   "file_extension": ".py",
   "mimetype": "text/x-python",
   "name": "python",
   "nbconvert_exporter": "python",
   "pygments_lexer": "ipython3",
   "version": "3.7.4"
  }
 },
 "nbformat": 4,
 "nbformat_minor": 1
}
